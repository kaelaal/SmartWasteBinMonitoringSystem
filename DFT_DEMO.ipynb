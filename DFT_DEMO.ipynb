{
  "nbformat": 4,
  "nbformat_minor": 0,
  "metadata": {
    "colab": {
      "provenance": [],
      "authorship_tag": "ABX9TyNJcAkHmPGrzerZF6kqqtzx",
      "include_colab_link": true
    },
    "kernelspec": {
      "name": "python3",
      "display_name": "Python 3"
    },
    "language_info": {
      "name": "python"
    }
  },
  "cells": [
    {
      "cell_type": "markdown",
      "metadata": {
        "id": "view-in-github",
        "colab_type": "text"
      },
      "source": [
        "<a href=\"https://colab.research.google.com/github/kaelaal/SmartWasteBinMonitoringSystem/blob/main/DFT_DEMO.ipynb\" target=\"_parent\"><img src=\"https://colab.research.google.com/assets/colab-badge.svg\" alt=\"Open In Colab\"/></a>"
      ]
    },
    {
      "cell_type": "markdown",
      "source": [
        "# Introduction:\n",
        "# Smart Trashbin Signal Analysis using DFT\n",
        "\n",
        "This notebook demonstrates how the **Discrete Fourier Transform (DFT)** is applied to sensor data in the **Smart Trashbin** system.\n",
        "\n",
        "In the actual device, a weight sensor (via the HX711 module) collects data to monitor the amount of trash in the bin. To analyze changes and trends in trash accumulation, the DFT can be used to extract the frequency components of the weight signal.\n",
        "\n",
        "This is useful for:\n",
        "- Detecting regular patterns (e.g., periodic dumping),\n",
        "- Identifying anomalies or unusual changes,\n",
        "\n",
        "\n"
      ],
      "metadata": {
        "id": "KSDSZn66FZz8"
      }
    },
    {
      "cell_type": "markdown",
      "source": [
        "#Buffer to store weight samples for DFT calculation\n"
      ],
      "metadata": {
        "id": "uAG-XMfDHbiA"
      }
    },
    {
      "cell_type": "code",
      "source": [
        "#define SAMPLE_SIZE 64\n",
        "float weightSamples[SAMPLE_SIZE];\n",
        "int sampleIndex = 0;"
      ],
      "metadata": {
        "id": "o0yE8R0eHhXy"
      },
      "execution_count": null,
      "outputs": []
    },
    {
      "cell_type": "markdown",
      "source": [
        "#This function performs the Discrete Fourier Transform on the collected data.\n",
        "- It calculates the magnitude of each frequency component up to N/2 (Nyquist frequency)."
      ],
      "metadata": {
        "id": "86cwjOxLHjGx"
      }
    },
    {
      "cell_type": "code",
      "source": [
        "void performDFT(float* data, int N) {\n",
        "  Serial.println(\"DFT Magnitude Spectrum:\");\n",
        "  for (int k = 0; k < N / 2; k++) {\n",
        "    float real = 0;\n",
        "    float imag = 0;\n",
        "    for (int n = 0; n < N; n++) {"
      ],
      "metadata": {
        "id": "wWfrnTn5Hu78"
      },
      "execution_count": null,
      "outputs": []
    },
    {
      "cell_type": "markdown",
      "source": [
        "#Calculate the angle for the current sample and frequency bin"
      ],
      "metadata": {
        "id": "zcvDBAqRH4vH"
      }
    },
    {
      "cell_type": "code",
      "source": [
        "float angle = 2 * PI * k * n / N;"
      ],
      "metadata": {
        "id": "QARsDLdcH80Q"
      },
      "execution_count": null,
      "outputs": []
    },
    {
      "cell_type": "markdown",
      "source": [
        "# Sum up the weighted cosine and sine components for real and imaginary parts"
      ],
      "metadata": {
        "id": "opEpMl7MIBLP"
      }
    },
    {
      "cell_type": "code",
      "source": [
        "real += data[n] * cos(angle);\n",
        "      imag -= data[n] * sin(angle);\n",
        "    }"
      ],
      "metadata": {
        "id": "pGyE5JwdIG2V"
      },
      "execution_count": null,
      "outputs": []
    },
    {
      "cell_type": "markdown",
      "source": [
        "#Calculate the magnitude (length) of the complex number (real + imag * j)"
      ],
      "metadata": {
        "id": "-67EQZApIJ3g"
      }
    },
    {
      "cell_type": "code",
      "source": [
        "float magnitude = sqrt(real * real + imag * imag);"
      ],
      "metadata": {
        "id": "4afeWujbIQps"
      },
      "execution_count": null,
      "outputs": []
    },
    {
      "cell_type": "markdown",
      "source": [
        "#Print magnitude for each frequency bin to Serial Monitor"
      ],
      "metadata": {
        "id": "bJxz_UScIUX6"
      }
    },
    {
      "cell_type": "code",
      "source": [
        "Serial.print(\"Freq bin \");\n",
        "    Serial.print(k);\n",
        "    Serial.print(\": \");\n",
        "    Serial.println(magnitude, 2);\n",
        "  }\n",
        "}"
      ],
      "metadata": {
        "id": "gvvQ4nO8IYE0"
      },
      "execution_count": null,
      "outputs": []
    },
    {
      "cell_type": "markdown",
      "source": [
        "# Inside the sensor reading function:\n",
        "1. Collect raw weight from LoadCell sensor.\n",
        "2. Store samples into weightSamples array.\n",
        "3. Once we have SAMPLE_SIZE samples, call performDFT to analyze frequency components."
      ],
      "metadata": {
        "id": "ePyJ80HRIa_q"
      }
    },
    {
      "cell_type": "code",
      "source": [
        "void readSensorsAndUpdate() {\n",
        "  if (LoadCell.is_ready()) {\n",
        "    float rawWeight = LoadCell.get_units();"
      ],
      "metadata": {
        "id": "CvNjm7iGIiQZ"
      },
      "execution_count": null,
      "outputs": []
    },
    {
      "cell_type": "markdown",
      "source": [
        "#Add the raw weight sample to the buffer"
      ],
      "metadata": {
        "id": "RlrciCe4I3pT"
      }
    },
    {
      "cell_type": "code",
      "source": [
        "weightSamples[sampleIndex] = rawWeight;\n",
        "    sampleIndex++;"
      ],
      "metadata": {
        "id": "pSqMWvPCI697"
      },
      "execution_count": null,
      "outputs": []
    },
    {
      "cell_type": "markdown",
      "source": [
        "# When buffer is full, perform DFT and reset index"
      ],
      "metadata": {
        "id": "eCQIe1uSI8py"
      }
    },
    {
      "cell_type": "code",
      "source": [
        " if (sampleIndex >= SAMPLE_SIZE) {\n",
        "      performDFT(weightSamples, SAMPLE_SIZE);\n",
        "      sampleIndex = 0;\n",
        "    }\n",
        "\n",
        "  }\n",
        "}"
      ],
      "metadata": {
        "id": "j7kDaw8oJBZS"
      },
      "execution_count": null,
      "outputs": []
    }
  ]
}